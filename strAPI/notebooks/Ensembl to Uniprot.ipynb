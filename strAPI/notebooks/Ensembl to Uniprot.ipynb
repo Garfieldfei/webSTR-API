{
 "cells": [
  {
   "cell_type": "code",
   "execution_count": null,
   "id": "b5bc5087",
   "metadata": {},
   "outputs": [],
   "source": [
    "import urllib.parse\n",
    "import urllib.request\n",
    "import pandas as pd\n",
    "import io"
   ]
  },
  {
   "cell_type": "code",
   "execution_count": 38,
   "id": "712bb2b7",
   "metadata": {},
   "outputs": [],
   "source": [
    "def get_uniprot_id(ensembl_ids):\n",
    "    url = 'https://www.uniprot.org/uploadlists/'\n",
    "\n",
    "    params = {\n",
    "    'from': 'ENSEMBL_ID',\n",
    "    'to': 'ACC',\n",
    "    'format': 'tab',\n",
    "    'query':  \" \".join(ensembl_ids)\n",
    "    }\n",
    "\n",
    "    data = urllib.parse.urlencode(params)\n",
    "    data = data.encode('utf-8')\n",
    "    req = urllib.request.Request(url, data)\n",
    "    with urllib.request.urlopen(req) as f:\n",
    "        response = f.read()\n",
    "        res_df = pd.read_csv(io.StringIO(response.decode('utf-8')), sep=\"\\t\")\n",
    "        return res_df"
   ]
  },
  {
   "cell_type": "code",
   "execution_count": 34,
   "id": "c4545fe0",
   "metadata": {},
   "outputs": [
    {
     "name": "stdout",
     "output_type": "stream",
     "text": [
      "Empty DataFrame\n",
      "Columns: [From, To]\n",
      "Index: []\n"
     ]
    }
   ],
   "source": [
    "get_uniprot_id([\"ENSG00000243485\",\"ENSG00000274890\"])"
   ]
  },
  {
   "cell_type": "code",
   "execution_count": 21,
   "id": "5185e81d",
   "metadata": {},
   "outputs": [],
   "source": [
    "import gtfparse\n",
    "def get_genome_annotations(gtf_handle, protein_coding=True):\n",
    "    \"\"\" Parsing and optional filtering of gtf genome annotation file into pd.DataFrame\n",
    "    \"\"\"\n",
    "    gtf_df = gtfparse.read_gtf(gtf_handle)\n",
    "\n",
    "    if protein_coding:\n",
    "        # Select only protein coding genes from the gtf\n",
    "        gtf_df = gtf_df.loc[(gtf_df[\"gene_type\"] == \"protein_coding\")]\n",
    "\n",
    "    return gtf_df"
   ]
  },
  {
   "cell_type": "code",
   "execution_count": 22,
   "id": "6df838c4",
   "metadata": {},
   "outputs": [
    {
     "name": "stderr",
     "output_type": "stream",
     "text": [
      "INFO:root:Extracted GTF attributes: ['gene_id', 'gene_type', 'gene_status', 'gene_name', 'level', 'havana_gene', 'transcript_id', 'transcript_type', 'transcript_status', 'transcript_name', 'tag', 'transcript_support_level', 'havana_transcript', 'exon_number', 'exon_id', 'ont', 'protein_id', 'ccdsid']\n"
     ]
    }
   ],
   "source": [
    "gtf_df = get_genome_annotations(\"/home/oxana/projects/str_database/data/genome_anntotation/gencode.v22.annotation.gtf\", protein_coding=True)"
   ]
  },
  {
   "cell_type": "code",
   "execution_count": 37,
   "id": "9c883aea",
   "metadata": {},
   "outputs": [
    {
     "name": "stdout",
     "output_type": "stream",
     "text": [
      "19814\n"
     ]
    }
   ],
   "source": [
    "ensembl_ids = []\n",
    "\n",
    "for index, row in gtf_df.loc[(gtf_df[\"feature\"] == \"gene\")].iterrows():\n",
    "    ensembl_id = row[\"gene_id\"].split(\".\")[0]  # emsebl gene id without version number\n",
    "    ensembl_ids.append(ensembl_id)\n",
    "print(len(ensembl_ids))        "
   ]
  },
  {
   "cell_type": "code",
   "execution_count": 39,
   "id": "871fded6",
   "metadata": {},
   "outputs": [],
   "source": [
    "uniprot_map = get_uniprot_id(ensembl_ids)"
   ]
  },
  {
   "cell_type": "code",
   "execution_count": 42,
   "id": "39445bb1",
   "metadata": {},
   "outputs": [
    {
     "data": {
      "text/plain": [
       "75124"
      ]
     },
     "execution_count": 42,
     "metadata": {},
     "output_type": "execute_result"
    }
   ],
   "source": [
    "len((uniprot_map[\"From\"]))"
   ]
  },
  {
   "cell_type": "code",
   "execution_count": 31,
   "id": "d34ef2df",
   "metadata": {},
   "outputs": [],
   "source": [
    "only_genes_df = gtf_df[(gtf_df[\"feature\"] == \"gene\")]"
   ]
  },
  {
   "cell_type": "code",
   "execution_count": 35,
   "id": "5a61bb0b",
   "metadata": {},
   "outputs": [
    {
     "name": "stdout",
     "output_type": "stream",
     "text": [
      "                  From          To\n",
      "0      ENSG00000186092  A0A2U3U0J3\n",
      "1      ENSG00000187634      Q96NU1\n",
      "2      ENSG00000187634  A0A087WU74\n",
      "3      ENSG00000187634  A0A087WX24\n",
      "4      ENSG00000187634  A0A087WXB3\n",
      "...                ...         ...\n",
      "75119  ENSG00000212907      P03901\n",
      "75120  ENSG00000198886      P03905\n",
      "75121  ENSG00000198786      P03915\n",
      "75122  ENSG00000198695      P03923\n",
      "75123  ENSG00000198727      P00156\n",
      "\n",
      "[75124 rows x 2 columns]\n"
     ]
    },
    {
     "ename": "ValueError",
     "evalue": "Length of values (75124) does not match length of index (19814)",
     "output_type": "error",
     "traceback": [
      "\u001b[0;31m---------------------------------------------------------------------------\u001b[0m",
      "\u001b[0;31mValueError\u001b[0m                                Traceback (most recent call last)",
      "\u001b[0;32m/tmp/ipykernel_9503/3812817955.py\u001b[0m in \u001b[0;36m<module>\u001b[0;34m\u001b[0m\n\u001b[0;32m----> 1\u001b[0;31m \u001b[0monly_genes_df\u001b[0m\u001b[0;34m[\u001b[0m\u001b[0;34m\"uniprot_id\"\u001b[0m\u001b[0;34m]\u001b[0m \u001b[0;34m=\u001b[0m \u001b[0mget_uniprot_id\u001b[0m\u001b[0;34m(\u001b[0m\u001b[0mensembl_ids\u001b[0m\u001b[0;34m)\u001b[0m\u001b[0;34m\u001b[0m\u001b[0;34m\u001b[0m\u001b[0m\n\u001b[0m",
      "\u001b[0;32m~/.local/lib/python3.8/site-packages/pandas/core/frame.py\u001b[0m in \u001b[0;36m__setitem__\u001b[0;34m(self, key, value)\u001b[0m\n\u001b[1;32m   3161\u001b[0m         \u001b[0;32melse\u001b[0m\u001b[0;34m:\u001b[0m\u001b[0;34m\u001b[0m\u001b[0;34m\u001b[0m\u001b[0m\n\u001b[1;32m   3162\u001b[0m             \u001b[0;31m# set column\u001b[0m\u001b[0;34m\u001b[0m\u001b[0;34m\u001b[0m\u001b[0;34m\u001b[0m\u001b[0m\n\u001b[0;32m-> 3163\u001b[0;31m             \u001b[0mself\u001b[0m\u001b[0;34m.\u001b[0m\u001b[0m_set_item\u001b[0m\u001b[0;34m(\u001b[0m\u001b[0mkey\u001b[0m\u001b[0;34m,\u001b[0m \u001b[0mvalue\u001b[0m\u001b[0;34m)\u001b[0m\u001b[0;34m\u001b[0m\u001b[0;34m\u001b[0m\u001b[0m\n\u001b[0m\u001b[1;32m   3164\u001b[0m \u001b[0;34m\u001b[0m\u001b[0m\n\u001b[1;32m   3165\u001b[0m     \u001b[0;32mdef\u001b[0m \u001b[0m_setitem_slice\u001b[0m\u001b[0;34m(\u001b[0m\u001b[0mself\u001b[0m\u001b[0;34m,\u001b[0m \u001b[0mkey\u001b[0m\u001b[0;34m:\u001b[0m \u001b[0mslice\u001b[0m\u001b[0;34m,\u001b[0m \u001b[0mvalue\u001b[0m\u001b[0;34m)\u001b[0m\u001b[0;34m:\u001b[0m\u001b[0;34m\u001b[0m\u001b[0;34m\u001b[0m\u001b[0m\n",
      "\u001b[0;32m~/.local/lib/python3.8/site-packages/pandas/core/frame.py\u001b[0m in \u001b[0;36m_set_item\u001b[0;34m(self, key, value)\u001b[0m\n\u001b[1;32m   3240\u001b[0m         \"\"\"\n\u001b[1;32m   3241\u001b[0m         \u001b[0mself\u001b[0m\u001b[0;34m.\u001b[0m\u001b[0m_ensure_valid_index\u001b[0m\u001b[0;34m(\u001b[0m\u001b[0mvalue\u001b[0m\u001b[0;34m)\u001b[0m\u001b[0;34m\u001b[0m\u001b[0;34m\u001b[0m\u001b[0m\n\u001b[0;32m-> 3242\u001b[0;31m         \u001b[0mvalue\u001b[0m \u001b[0;34m=\u001b[0m \u001b[0mself\u001b[0m\u001b[0;34m.\u001b[0m\u001b[0m_sanitize_column\u001b[0m\u001b[0;34m(\u001b[0m\u001b[0mkey\u001b[0m\u001b[0;34m,\u001b[0m \u001b[0mvalue\u001b[0m\u001b[0;34m)\u001b[0m\u001b[0;34m\u001b[0m\u001b[0;34m\u001b[0m\u001b[0m\n\u001b[0m\u001b[1;32m   3243\u001b[0m         \u001b[0mNDFrame\u001b[0m\u001b[0;34m.\u001b[0m\u001b[0m_set_item\u001b[0m\u001b[0;34m(\u001b[0m\u001b[0mself\u001b[0m\u001b[0;34m,\u001b[0m \u001b[0mkey\u001b[0m\u001b[0;34m,\u001b[0m \u001b[0mvalue\u001b[0m\u001b[0;34m)\u001b[0m\u001b[0;34m\u001b[0m\u001b[0;34m\u001b[0m\u001b[0m\n\u001b[1;32m   3244\u001b[0m \u001b[0;34m\u001b[0m\u001b[0m\n",
      "\u001b[0;32m~/.local/lib/python3.8/site-packages/pandas/core/frame.py\u001b[0m in \u001b[0;36m_sanitize_column\u001b[0;34m(self, key, value, broadcast)\u001b[0m\n\u001b[1;32m   3897\u001b[0m \u001b[0;34m\u001b[0m\u001b[0m\n\u001b[1;32m   3898\u001b[0m             \u001b[0;31m# turn me into an ndarray\u001b[0m\u001b[0;34m\u001b[0m\u001b[0;34m\u001b[0m\u001b[0;34m\u001b[0m\u001b[0m\n\u001b[0;32m-> 3899\u001b[0;31m             \u001b[0mvalue\u001b[0m \u001b[0;34m=\u001b[0m \u001b[0msanitize_index\u001b[0m\u001b[0;34m(\u001b[0m\u001b[0mvalue\u001b[0m\u001b[0;34m,\u001b[0m \u001b[0mself\u001b[0m\u001b[0;34m.\u001b[0m\u001b[0mindex\u001b[0m\u001b[0;34m)\u001b[0m\u001b[0;34m\u001b[0m\u001b[0;34m\u001b[0m\u001b[0m\n\u001b[0m\u001b[1;32m   3900\u001b[0m             \u001b[0;32mif\u001b[0m \u001b[0;32mnot\u001b[0m \u001b[0misinstance\u001b[0m\u001b[0;34m(\u001b[0m\u001b[0mvalue\u001b[0m\u001b[0;34m,\u001b[0m \u001b[0;34m(\u001b[0m\u001b[0mnp\u001b[0m\u001b[0;34m.\u001b[0m\u001b[0mndarray\u001b[0m\u001b[0;34m,\u001b[0m \u001b[0mIndex\u001b[0m\u001b[0;34m)\u001b[0m\u001b[0;34m)\u001b[0m\u001b[0;34m:\u001b[0m\u001b[0;34m\u001b[0m\u001b[0;34m\u001b[0m\u001b[0m\n\u001b[1;32m   3901\u001b[0m                 \u001b[0;32mif\u001b[0m \u001b[0misinstance\u001b[0m\u001b[0;34m(\u001b[0m\u001b[0mvalue\u001b[0m\u001b[0;34m,\u001b[0m \u001b[0mlist\u001b[0m\u001b[0;34m)\u001b[0m \u001b[0;32mand\u001b[0m \u001b[0mlen\u001b[0m\u001b[0;34m(\u001b[0m\u001b[0mvalue\u001b[0m\u001b[0;34m)\u001b[0m \u001b[0;34m>\u001b[0m \u001b[0;36m0\u001b[0m\u001b[0;34m:\u001b[0m\u001b[0;34m\u001b[0m\u001b[0;34m\u001b[0m\u001b[0m\n",
      "\u001b[0;32m~/.local/lib/python3.8/site-packages/pandas/core/internals/construction.py\u001b[0m in \u001b[0;36msanitize_index\u001b[0;34m(data, index)\u001b[0m\n\u001b[1;32m    749\u001b[0m     \"\"\"\n\u001b[1;32m    750\u001b[0m     \u001b[0;32mif\u001b[0m \u001b[0mlen\u001b[0m\u001b[0;34m(\u001b[0m\u001b[0mdata\u001b[0m\u001b[0;34m)\u001b[0m \u001b[0;34m!=\u001b[0m \u001b[0mlen\u001b[0m\u001b[0;34m(\u001b[0m\u001b[0mindex\u001b[0m\u001b[0;34m)\u001b[0m\u001b[0;34m:\u001b[0m\u001b[0;34m\u001b[0m\u001b[0;34m\u001b[0m\u001b[0m\n\u001b[0;32m--> 751\u001b[0;31m         raise ValueError(\n\u001b[0m\u001b[1;32m    752\u001b[0m             \u001b[0;34m\"Length of values \"\u001b[0m\u001b[0;34m\u001b[0m\u001b[0;34m\u001b[0m\u001b[0m\n\u001b[1;32m    753\u001b[0m             \u001b[0;34mf\"({len(data)}) \"\u001b[0m\u001b[0;34m\u001b[0m\u001b[0;34m\u001b[0m\u001b[0m\n",
      "\u001b[0;31mValueError\u001b[0m: Length of values (75124) does not match length of index (19814)"
     ]
    }
   ],
   "source": [
    "only_genes_df[\"uniprot_id\"] = get_uniprot_id(ensembl_ids)"
   ]
  },
  {
   "cell_type": "code",
   "execution_count": null,
   "id": "c8ca0954",
   "metadata": {},
   "outputs": [],
   "source": []
  }
 ],
 "metadata": {
  "kernelspec": {
   "display_name": "Python 3 (ipykernel)",
   "language": "python",
   "name": "python3"
  },
  "language_info": {
   "codemirror_mode": {
    "name": "ipython",
    "version": 3
   },
   "file_extension": ".py",
   "mimetype": "text/x-python",
   "name": "python",
   "nbconvert_exporter": "python",
   "pygments_lexer": "ipython3",
   "version": "3.8.10"
  }
 },
 "nbformat": 4,
 "nbformat_minor": 5
}
